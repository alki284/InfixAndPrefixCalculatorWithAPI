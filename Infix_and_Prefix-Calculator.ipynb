{
 "cells": [
  {
   "cell_type": "code",
   "execution_count": 42,
   "metadata": {},
   "outputs": [],
   "source": [
    "def prefix_calculator(ops): \n",
    "    stack = [] \n",
    "    ops = ops.split(\" \")\n",
    "    incorrect_format_message = \"Incorrect format, please enter again.\"\n",
    "    \n",
    "    # Work backwards and determine if char is digit or op.\n",
    "    for i in ops[::-1]:\n",
    "        if i.isdigit():\n",
    "            stack.append(int(i)) \n",
    "  \n",
    "        else: \n",
    "            # pop values from stack can calculate the result \n",
    "            # push the result onto the stack again \n",
    "            try:\n",
    "                digit1 = stack.pop() \n",
    "                digit2 = stack.pop() \n",
    "            except IndexError:\n",
    "                return incorrect_format_message\n",
    "                \n",
    "            if i == '+': \n",
    "                stack.append(digit1 + digit2) \n",
    "            elif i == '-': \n",
    "                stack.append(digit1 - digit2) \n",
    "            elif i == '*': \n",
    "                stack.append(digit1 * digit2) \n",
    "            elif i == '/': \n",
    "                stack.append(digit1 / digit2) \n",
    "            else:\n",
    "                return incorrect_format_message\n",
    "  \n",
    "    return stack.pop() "
   ]
  },
  {
   "cell_type": "code",
   "execution_count": 10,
   "metadata": {},
   "outputs": [],
   "source": [
    "# Runs through all examples in github README.md for the given calculator.\n",
    "def run_tests(calculator, examples):\n",
    "    for i in range(0, len(examples)):\n",
    "        print('Testing: ' + examples[i])\n",
    "        print('Answer is: ', calculator(examples[i]), '\\n')"
   ]
  },
  {
   "cell_type": "code",
   "execution_count": 11,
   "metadata": {},
   "outputs": [
    {
     "name": "stdout",
     "output_type": "stream",
     "text": [
      "Testing: 3\n",
      "Answer is:  3 \n",
      "\n",
      "Testing: + 1 2\n",
      "Answer is:  3 \n",
      "\n",
      "Testing: + 1 * 2 3\n",
      "Answer is:  7 \n",
      "\n",
      "Testing: + * 1 2 3\n",
      "Answer is:  5 \n",
      "\n",
      "Testing: - / 10 + 1 1 * 1 2\n",
      "Answer is:  3.0 \n",
      "\n",
      "Testing: - 0 3\n",
      "Answer is:  -3 \n",
      "\n",
      "Testing: / 3 2\n",
      "Answer is:  1.5 \n",
      "\n"
     ]
    }
   ],
   "source": [
    "prefix_examples = ['3', '+ 1 2', '+ 1 * 2 3', '+ * 1 2 3', '- / 10 + 1 1 * 1 2', '- 0 3', '/ 3 2']\n",
    "run_tests(prefix_calculator, prefix_examples)"
   ]
  },
  {
   "cell_type": "code",
   "execution_count": 52,
   "metadata": {},
   "outputs": [],
   "source": [
    "def infix_calculator(ops):\n",
    "    stack = []\n",
    "    ops = ops.split(\" \")\n",
    "    incorrect_format_message = \"Incorrect format, please enter again.\"\n",
    "    \n",
    "    while len(ops) > 0:\n",
    "        i = ops.pop(0)\n",
    "        \n",
    "        if i.isdigit():\n",
    "            stack.append(int(i))\n",
    "        \n",
    "        else:\n",
    "            if len(i) > 1:\n",
    "                return incorrect_format_message\n",
    "            if i in \"+-*/\":\n",
    "                stack.append(i)\n",
    "            \n",
    "            elif i == \")\":\n",
    "                try:\n",
    "                    digit2 = stack.pop()\n",
    "                    op = stack.pop()\n",
    "                    digit1 = stack.pop()\n",
    "                except IndexError:\n",
    "                    return incorrect_format_message\n",
    "                \n",
    "                \n",
    "                if op == \"+\":\n",
    "                    stack.append(digit1 + digit2)\n",
    "                elif op == \"-\":\n",
    "                    stack.append(digit1 - digit2)\n",
    "                elif op == \"*\":\n",
    "                    stack.append(digit1 * digit2)\n",
    "                elif op == \"/\":\n",
    "                    stack.append(digit1 / digit2)\n",
    "    \n",
    "    return stack.pop()"
   ]
  },
  {
   "cell_type": "code",
   "execution_count": 53,
   "metadata": {},
   "outputs": [
    {
     "name": "stdout",
     "output_type": "stream",
     "text": [
      "Testing: ( 1 + 2 )\n",
      "Answer is:  3 \n",
      "\n",
      "Testing: ( 1 + ( 2 * 3 ) )\n",
      "Answer is:  7 \n",
      "\n",
      "Testing: ( ( 1 * 2 ) + 3 )\n",
      "Answer is:  5 \n",
      "\n",
      "Testing: ( ( ( 1 + 1 ) / 10 ) - ( 1 * 2 ) )\n",
      "Answer is:  -1.8 \n",
      "\n"
     ]
    }
   ],
   "source": [
    "infix_examples = ['( 1 + 2 )','( 1 + ( 2 * 3 ) )', '( ( 1 * 2 ) + 3 )', '( ( ( 1 + 1 ) / 10 ) - ( 1 * 2 ) )']\n",
    "run_tests(infix_calculator, infix_examples)"
   ]
  }
 ],
 "metadata": {
  "kernelspec": {
   "display_name": "Python 3",
   "language": "python",
   "name": "python3"
  },
  "language_info": {
   "codemirror_mode": {
    "name": "ipython",
    "version": 3
   },
   "file_extension": ".py",
   "mimetype": "text/x-python",
   "name": "python",
   "nbconvert_exporter": "python",
   "pygments_lexer": "ipython3",
   "version": "3.7.3"
  }
 },
 "nbformat": 4,
 "nbformat_minor": 2
}
